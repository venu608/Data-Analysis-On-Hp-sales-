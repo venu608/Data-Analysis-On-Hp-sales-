{
  "nbformat": 4,
  "nbformat_minor": 0,
  "metadata": {
    "colab": {
      "provenance": []
    },
    "kernelspec": {
      "name": "python3",
      "display_name": "Python 3"
    },
    "language_info": {
      "name": "python"
    }
  },
  "cells": [
    {
      "cell_type": "code",
      "execution_count": 1,
      "metadata": {
        "id": "AoXRhmOrRgO3"
      },
      "outputs": [],
      "source": [
        "import pandas as pd\n",
        "import numpy as np\n",
        "import matplotlib.pyplot as plt\n",
        "import seaborn as sns"
      ]
    },
    {
      "cell_type": "code",
      "source": [
        "sales = pd.read_excel(\"/content/sales_data_500.xlsx\")\n",
        "products = pd.read_excel(\"/content/products_data_500.xlsx\")\n",
        "regions = pd.read_excel(\"/content/regions_data_500.xlsx\")"
      ],
      "metadata": {
        "id": "JExSBD6WSAwC"
      },
      "execution_count": 2,
      "outputs": []
    },
    {
      "cell_type": "code",
      "source": [
        "sales.shape\n"
      ],
      "metadata": {
        "colab": {
          "base_uri": "https://localhost:8080/"
        },
        "id": "2TMN6LTcSpJK",
        "outputId": "c68caa9e-4536-4689-835f-27ffb2faa236"
      },
      "execution_count": 5,
      "outputs": [
        {
          "output_type": "execute_result",
          "data": {
            "text/plain": [
              "(500, 4)"
            ]
          },
          "metadata": {},
          "execution_count": 5
        }
      ]
    },
    {
      "cell_type": "code",
      "source": [
        "products.shape\n",
        "\n"
      ],
      "metadata": {
        "colab": {
          "base_uri": "https://localhost:8080/"
        },
        "id": "H8VBSQJxS3FH",
        "outputId": "d154fdd7-ac3e-448b-ae41-d2ec625661c1"
      },
      "execution_count": 6,
      "outputs": [
        {
          "output_type": "execute_result",
          "data": {
            "text/plain": [
              "(10, 3)"
            ]
          },
          "metadata": {},
          "execution_count": 6
        }
      ]
    },
    {
      "cell_type": "code",
      "source": [
        "regions.shape"
      ],
      "metadata": {
        "colab": {
          "base_uri": "https://localhost:8080/"
        },
        "id": "feJTGSfBTAH3",
        "outputId": "bd0f0a62-6bb3-4c37-beed-4e8bb84ad6b8"
      },
      "execution_count": 7,
      "outputs": [
        {
          "output_type": "execute_result",
          "data": {
            "text/plain": [
              "(6, 2)"
            ]
          },
          "metadata": {},
          "execution_count": 7
        }
      ]
    },
    {
      "cell_type": "code",
      "source": [
        "sales.info()"
      ],
      "metadata": {
        "colab": {
          "base_uri": "https://localhost:8080/"
        },
        "id": "rvcTkpymTBNS",
        "outputId": "64bd16bc-6b6e-4b94-faa8-aec42ecf7794"
      },
      "execution_count": 8,
      "outputs": [
        {
          "output_type": "stream",
          "name": "stdout",
          "text": [
            "<class 'pandas.core.frame.DataFrame'>\n",
            "RangeIndex: 500 entries, 0 to 499\n",
            "Data columns (total 4 columns):\n",
            " #   Column       Non-Null Count  Dtype \n",
            "---  ------       --------------  ----- \n",
            " 0   OrderID      500 non-null    int64 \n",
            " 1   ProductID    500 non-null    object\n",
            " 2   Quantity     500 non-null    int64 \n",
            " 3   Salesperson  500 non-null    object\n",
            "dtypes: int64(2), object(2)\n",
            "memory usage: 15.8+ KB\n"
          ]
        }
      ]
    },
    {
      "cell_type": "code",
      "source": [
        "products.info()"
      ],
      "metadata": {
        "colab": {
          "base_uri": "https://localhost:8080/"
        },
        "id": "WjIQCmp8TL0o",
        "outputId": "6aeeb085-a704-4f62-9ff7-f62b2379dd8b"
      },
      "execution_count": 9,
      "outputs": [
        {
          "output_type": "stream",
          "name": "stdout",
          "text": [
            "<class 'pandas.core.frame.DataFrame'>\n",
            "RangeIndex: 10 entries, 0 to 9\n",
            "Data columns (total 3 columns):\n",
            " #   Column       Non-Null Count  Dtype \n",
            "---  ------       --------------  ----- \n",
            " 0   ProductID    10 non-null     object\n",
            " 1   ProductName  10 non-null     object\n",
            " 2   UnitPrice    10 non-null     int64 \n",
            "dtypes: int64(1), object(2)\n",
            "memory usage: 372.0+ bytes\n"
          ]
        }
      ]
    },
    {
      "cell_type": "code",
      "source": [
        "regions.info()"
      ],
      "metadata": {
        "colab": {
          "base_uri": "https://localhost:8080/"
        },
        "id": "uLF7I-2MTQYU",
        "outputId": "515b2e5f-b4b2-4a50-bb55-d4be86a0176e"
      },
      "execution_count": 10,
      "outputs": [
        {
          "output_type": "stream",
          "name": "stdout",
          "text": [
            "<class 'pandas.core.frame.DataFrame'>\n",
            "RangeIndex: 6 entries, 0 to 5\n",
            "Data columns (total 2 columns):\n",
            " #   Column       Non-Null Count  Dtype \n",
            "---  ------       --------------  ----- \n",
            " 0   Salesperson  6 non-null      object\n",
            " 1   Region       6 non-null      object\n",
            "dtypes: object(2)\n",
            "memory usage: 228.0+ bytes\n"
          ]
        }
      ]
    },
    {
      "cell_type": "code",
      "source": [
        "df = sales.merge(products, on =  'ProductID',how = 'left')\n",
        "df = df.merge(regions,on  = 'Salesperson' , how = 'left')\n"
      ],
      "metadata": {
        "id": "mD3d-UZwUqDk"
      },
      "execution_count": 14,
      "outputs": []
    },
    {
      "cell_type": "markdown",
      "source": [],
      "metadata": {
        "id": "e2WxJ4CjUpt_"
      }
    },
    {
      "cell_type": "code",
      "source": [
        "# --- Add OrderDate if missing  ---\n",
        "\n",
        "if 'OrderDate' not in df.columns:\n",
        "  rng = pd.date_range(start = '2025-01-01',end = '2025-06-30')\n",
        "  np.random.seed(42)\n",
        "  df['OrderDate'] = np.random.choice (rng,size = len(df))"
      ],
      "metadata": {
        "id": "CJiZMAFhVQkL"
      },
      "execution_count": 16,
      "outputs": []
    },
    {
      "cell_type": "code",
      "source": [
        "# --- Data cleaning ---\n",
        "if df ['UnitPrice'].isnull().any():\n",
        "  df['UnitPrice'].fillna(df['UnitPrice'].median(), inplace = True)"
      ],
      "metadata": {
        "id": "Jec1AT_bWKQT"
      },
      "execution_count": 18,
      "outputs": []
    },
    {
      "cell_type": "code",
      "source": [
        "df.head()"
      ],
      "metadata": {
        "colab": {
          "base_uri": "https://localhost:8080/",
          "height": 206
        },
        "id": "XR8SEnPlWvXn",
        "outputId": "f8f84975-85fe-47c5-d583-861362278783"
      },
      "execution_count": 20,
      "outputs": [
        {
          "output_type": "execute_result",
          "data": {
            "text/plain": [
              "   OrderID ProductID  Quantity Salesperson ProductName  UnitPrice   Region  \\\n",
              "0     1001       P07         9     Charlie  HP ProBook        700     East   \n",
              "1     1002       P04        14         Bob     HP Omen       1200    South   \n",
              "2     1003       P08         1     Charlie    HP ZBook       1100     East   \n",
              "3     1004       P05         1       Frank  HP Spectre       1500  Central   \n",
              "4     1005       P07        14         Eva  HP ProBook        700    North   \n",
              "\n",
              "   OrderDate  \n",
              "0 2025-04-13  \n",
              "1 2025-06-29  \n",
              "2 2025-04-03  \n",
              "3 2025-01-15  \n",
              "4 2025-04-17  "
            ],
            "text/html": [
              "\n",
              "  <div id=\"df-e9bdfdf5-741e-4375-81c9-9c8e017393a3\" class=\"colab-df-container\">\n",
              "    <div>\n",
              "<style scoped>\n",
              "    .dataframe tbody tr th:only-of-type {\n",
              "        vertical-align: middle;\n",
              "    }\n",
              "\n",
              "    .dataframe tbody tr th {\n",
              "        vertical-align: top;\n",
              "    }\n",
              "\n",
              "    .dataframe thead th {\n",
              "        text-align: right;\n",
              "    }\n",
              "</style>\n",
              "<table border=\"1\" class=\"dataframe\">\n",
              "  <thead>\n",
              "    <tr style=\"text-align: right;\">\n",
              "      <th></th>\n",
              "      <th>OrderID</th>\n",
              "      <th>ProductID</th>\n",
              "      <th>Quantity</th>\n",
              "      <th>Salesperson</th>\n",
              "      <th>ProductName</th>\n",
              "      <th>UnitPrice</th>\n",
              "      <th>Region</th>\n",
              "      <th>OrderDate</th>\n",
              "    </tr>\n",
              "  </thead>\n",
              "  <tbody>\n",
              "    <tr>\n",
              "      <th>0</th>\n",
              "      <td>1001</td>\n",
              "      <td>P07</td>\n",
              "      <td>9</td>\n",
              "      <td>Charlie</td>\n",
              "      <td>HP ProBook</td>\n",
              "      <td>700</td>\n",
              "      <td>East</td>\n",
              "      <td>2025-04-13</td>\n",
              "    </tr>\n",
              "    <tr>\n",
              "      <th>1</th>\n",
              "      <td>1002</td>\n",
              "      <td>P04</td>\n",
              "      <td>14</td>\n",
              "      <td>Bob</td>\n",
              "      <td>HP Omen</td>\n",
              "      <td>1200</td>\n",
              "      <td>South</td>\n",
              "      <td>2025-06-29</td>\n",
              "    </tr>\n",
              "    <tr>\n",
              "      <th>2</th>\n",
              "      <td>1003</td>\n",
              "      <td>P08</td>\n",
              "      <td>1</td>\n",
              "      <td>Charlie</td>\n",
              "      <td>HP ZBook</td>\n",
              "      <td>1100</td>\n",
              "      <td>East</td>\n",
              "      <td>2025-04-03</td>\n",
              "    </tr>\n",
              "    <tr>\n",
              "      <th>3</th>\n",
              "      <td>1004</td>\n",
              "      <td>P05</td>\n",
              "      <td>1</td>\n",
              "      <td>Frank</td>\n",
              "      <td>HP Spectre</td>\n",
              "      <td>1500</td>\n",
              "      <td>Central</td>\n",
              "      <td>2025-01-15</td>\n",
              "    </tr>\n",
              "    <tr>\n",
              "      <th>4</th>\n",
              "      <td>1005</td>\n",
              "      <td>P07</td>\n",
              "      <td>14</td>\n",
              "      <td>Eva</td>\n",
              "      <td>HP ProBook</td>\n",
              "      <td>700</td>\n",
              "      <td>North</td>\n",
              "      <td>2025-04-17</td>\n",
              "    </tr>\n",
              "  </tbody>\n",
              "</table>\n",
              "</div>\n",
              "    <div class=\"colab-df-buttons\">\n",
              "\n",
              "  <div class=\"colab-df-container\">\n",
              "    <button class=\"colab-df-convert\" onclick=\"convertToInteractive('df-e9bdfdf5-741e-4375-81c9-9c8e017393a3')\"\n",
              "            title=\"Convert this dataframe to an interactive table.\"\n",
              "            style=\"display:none;\">\n",
              "\n",
              "  <svg xmlns=\"http://www.w3.org/2000/svg\" height=\"24px\" viewBox=\"0 -960 960 960\">\n",
              "    <path d=\"M120-120v-720h720v720H120Zm60-500h600v-160H180v160Zm220 220h160v-160H400v160Zm0 220h160v-160H400v160ZM180-400h160v-160H180v160Zm440 0h160v-160H620v160ZM180-180h160v-160H180v160Zm440 0h160v-160H620v160Z\"/>\n",
              "  </svg>\n",
              "    </button>\n",
              "\n",
              "  <style>\n",
              "    .colab-df-container {\n",
              "      display:flex;\n",
              "      gap: 12px;\n",
              "    }\n",
              "\n",
              "    .colab-df-convert {\n",
              "      background-color: #E8F0FE;\n",
              "      border: none;\n",
              "      border-radius: 50%;\n",
              "      cursor: pointer;\n",
              "      display: none;\n",
              "      fill: #1967D2;\n",
              "      height: 32px;\n",
              "      padding: 0 0 0 0;\n",
              "      width: 32px;\n",
              "    }\n",
              "\n",
              "    .colab-df-convert:hover {\n",
              "      background-color: #E2EBFA;\n",
              "      box-shadow: 0px 1px 2px rgba(60, 64, 67, 0.3), 0px 1px 3px 1px rgba(60, 64, 67, 0.15);\n",
              "      fill: #174EA6;\n",
              "    }\n",
              "\n",
              "    .colab-df-buttons div {\n",
              "      margin-bottom: 4px;\n",
              "    }\n",
              "\n",
              "    [theme=dark] .colab-df-convert {\n",
              "      background-color: #3B4455;\n",
              "      fill: #D2E3FC;\n",
              "    }\n",
              "\n",
              "    [theme=dark] .colab-df-convert:hover {\n",
              "      background-color: #434B5C;\n",
              "      box-shadow: 0px 1px 3px 1px rgba(0, 0, 0, 0.15);\n",
              "      filter: drop-shadow(0px 1px 2px rgba(0, 0, 0, 0.3));\n",
              "      fill: #FFFFFF;\n",
              "    }\n",
              "  </style>\n",
              "\n",
              "    <script>\n",
              "      const buttonEl =\n",
              "        document.querySelector('#df-e9bdfdf5-741e-4375-81c9-9c8e017393a3 button.colab-df-convert');\n",
              "      buttonEl.style.display =\n",
              "        google.colab.kernel.accessAllowed ? 'block' : 'none';\n",
              "\n",
              "      async function convertToInteractive(key) {\n",
              "        const element = document.querySelector('#df-e9bdfdf5-741e-4375-81c9-9c8e017393a3');\n",
              "        const dataTable =\n",
              "          await google.colab.kernel.invokeFunction('convertToInteractive',\n",
              "                                                    [key], {});\n",
              "        if (!dataTable) return;\n",
              "\n",
              "        const docLinkHtml = 'Like what you see? Visit the ' +\n",
              "          '<a target=\"_blank\" href=https://colab.research.google.com/notebooks/data_table.ipynb>data table notebook</a>'\n",
              "          + ' to learn more about interactive tables.';\n",
              "        element.innerHTML = '';\n",
              "        dataTable['output_type'] = 'display_data';\n",
              "        await google.colab.output.renderOutput(dataTable, element);\n",
              "        const docLink = document.createElement('div');\n",
              "        docLink.innerHTML = docLinkHtml;\n",
              "        element.appendChild(docLink);\n",
              "      }\n",
              "    </script>\n",
              "  </div>\n",
              "\n",
              "\n",
              "    <div id=\"df-d56ed9c4-9749-4dce-acd3-5965b7e1d2f3\">\n",
              "      <button class=\"colab-df-quickchart\" onclick=\"quickchart('df-d56ed9c4-9749-4dce-acd3-5965b7e1d2f3')\"\n",
              "                title=\"Suggest charts\"\n",
              "                style=\"display:none;\">\n",
              "\n",
              "<svg xmlns=\"http://www.w3.org/2000/svg\" height=\"24px\"viewBox=\"0 0 24 24\"\n",
              "     width=\"24px\">\n",
              "    <g>\n",
              "        <path d=\"M19 3H5c-1.1 0-2 .9-2 2v14c0 1.1.9 2 2 2h14c1.1 0 2-.9 2-2V5c0-1.1-.9-2-2-2zM9 17H7v-7h2v7zm4 0h-2V7h2v10zm4 0h-2v-4h2v4z\"/>\n",
              "    </g>\n",
              "</svg>\n",
              "      </button>\n",
              "\n",
              "<style>\n",
              "  .colab-df-quickchart {\n",
              "      --bg-color: #E8F0FE;\n",
              "      --fill-color: #1967D2;\n",
              "      --hover-bg-color: #E2EBFA;\n",
              "      --hover-fill-color: #174EA6;\n",
              "      --disabled-fill-color: #AAA;\n",
              "      --disabled-bg-color: #DDD;\n",
              "  }\n",
              "\n",
              "  [theme=dark] .colab-df-quickchart {\n",
              "      --bg-color: #3B4455;\n",
              "      --fill-color: #D2E3FC;\n",
              "      --hover-bg-color: #434B5C;\n",
              "      --hover-fill-color: #FFFFFF;\n",
              "      --disabled-bg-color: #3B4455;\n",
              "      --disabled-fill-color: #666;\n",
              "  }\n",
              "\n",
              "  .colab-df-quickchart {\n",
              "    background-color: var(--bg-color);\n",
              "    border: none;\n",
              "    border-radius: 50%;\n",
              "    cursor: pointer;\n",
              "    display: none;\n",
              "    fill: var(--fill-color);\n",
              "    height: 32px;\n",
              "    padding: 0;\n",
              "    width: 32px;\n",
              "  }\n",
              "\n",
              "  .colab-df-quickchart:hover {\n",
              "    background-color: var(--hover-bg-color);\n",
              "    box-shadow: 0 1px 2px rgba(60, 64, 67, 0.3), 0 1px 3px 1px rgba(60, 64, 67, 0.15);\n",
              "    fill: var(--button-hover-fill-color);\n",
              "  }\n",
              "\n",
              "  .colab-df-quickchart-complete:disabled,\n",
              "  .colab-df-quickchart-complete:disabled:hover {\n",
              "    background-color: var(--disabled-bg-color);\n",
              "    fill: var(--disabled-fill-color);\n",
              "    box-shadow: none;\n",
              "  }\n",
              "\n",
              "  .colab-df-spinner {\n",
              "    border: 2px solid var(--fill-color);\n",
              "    border-color: transparent;\n",
              "    border-bottom-color: var(--fill-color);\n",
              "    animation:\n",
              "      spin 1s steps(1) infinite;\n",
              "  }\n",
              "\n",
              "  @keyframes spin {\n",
              "    0% {\n",
              "      border-color: transparent;\n",
              "      border-bottom-color: var(--fill-color);\n",
              "      border-left-color: var(--fill-color);\n",
              "    }\n",
              "    20% {\n",
              "      border-color: transparent;\n",
              "      border-left-color: var(--fill-color);\n",
              "      border-top-color: var(--fill-color);\n",
              "    }\n",
              "    30% {\n",
              "      border-color: transparent;\n",
              "      border-left-color: var(--fill-color);\n",
              "      border-top-color: var(--fill-color);\n",
              "      border-right-color: var(--fill-color);\n",
              "    }\n",
              "    40% {\n",
              "      border-color: transparent;\n",
              "      border-right-color: var(--fill-color);\n",
              "      border-top-color: var(--fill-color);\n",
              "    }\n",
              "    60% {\n",
              "      border-color: transparent;\n",
              "      border-right-color: var(--fill-color);\n",
              "    }\n",
              "    80% {\n",
              "      border-color: transparent;\n",
              "      border-right-color: var(--fill-color);\n",
              "      border-bottom-color: var(--fill-color);\n",
              "    }\n",
              "    90% {\n",
              "      border-color: transparent;\n",
              "      border-bottom-color: var(--fill-color);\n",
              "    }\n",
              "  }\n",
              "</style>\n",
              "\n",
              "      <script>\n",
              "        async function quickchart(key) {\n",
              "          const quickchartButtonEl =\n",
              "            document.querySelector('#' + key + ' button');\n",
              "          quickchartButtonEl.disabled = true;  // To prevent multiple clicks.\n",
              "          quickchartButtonEl.classList.add('colab-df-spinner');\n",
              "          try {\n",
              "            const charts = await google.colab.kernel.invokeFunction(\n",
              "                'suggestCharts', [key], {});\n",
              "          } catch (error) {\n",
              "            console.error('Error during call to suggestCharts:', error);\n",
              "          }\n",
              "          quickchartButtonEl.classList.remove('colab-df-spinner');\n",
              "          quickchartButtonEl.classList.add('colab-df-quickchart-complete');\n",
              "        }\n",
              "        (() => {\n",
              "          let quickchartButtonEl =\n",
              "            document.querySelector('#df-d56ed9c4-9749-4dce-acd3-5965b7e1d2f3 button');\n",
              "          quickchartButtonEl.style.display =\n",
              "            google.colab.kernel.accessAllowed ? 'block' : 'none';\n",
              "        })();\n",
              "      </script>\n",
              "    </div>\n",
              "\n",
              "    </div>\n",
              "  </div>\n"
            ],
            "application/vnd.google.colaboratory.intrinsic+json": {
              "type": "dataframe",
              "variable_name": "df",
              "summary": "{\n  \"name\": \"df\",\n  \"rows\": 500,\n  \"fields\": [\n    {\n      \"column\": \"OrderID\",\n      \"properties\": {\n        \"dtype\": \"number\",\n        \"std\": 144,\n        \"min\": 1001,\n        \"max\": 1500,\n        \"num_unique_values\": 500,\n        \"samples\": [\n          1362,\n          1074,\n          1375\n        ],\n        \"semantic_type\": \"\",\n        \"description\": \"\"\n      }\n    },\n    {\n      \"column\": \"ProductID\",\n      \"properties\": {\n        \"dtype\": \"category\",\n        \"num_unique_values\": 10,\n        \"samples\": [\n          \"P01\",\n          \"P04\",\n          \"P03\"\n        ],\n        \"semantic_type\": \"\",\n        \"description\": \"\"\n      }\n    },\n    {\n      \"column\": \"Quantity\",\n      \"properties\": {\n        \"dtype\": \"number\",\n        \"std\": 4,\n        \"min\": 1,\n        \"max\": 14,\n        \"num_unique_values\": 14,\n        \"samples\": [\n          7,\n          5,\n          9\n        ],\n        \"semantic_type\": \"\",\n        \"description\": \"\"\n      }\n    },\n    {\n      \"column\": \"Salesperson\",\n      \"properties\": {\n        \"dtype\": \"category\",\n        \"num_unique_values\": 6,\n        \"samples\": [\n          \"Charlie\",\n          \"Bob\",\n          \"Alice\"\n        ],\n        \"semantic_type\": \"\",\n        \"description\": \"\"\n      }\n    },\n    {\n      \"column\": \"ProductName\",\n      \"properties\": {\n        \"dtype\": \"category\",\n        \"num_unique_values\": 10,\n        \"samples\": [\n          \"HP Envy\",\n          \"HP Omen\",\n          \"HP EliteBook\"\n        ],\n        \"semantic_type\": \"\",\n        \"description\": \"\"\n      }\n    },\n    {\n      \"column\": \"UnitPrice\",\n      \"properties\": {\n        \"dtype\": \"number\",\n        \"std\": 333,\n        \"min\": 300,\n        \"max\": 1500,\n        \"num_unique_values\": 10,\n        \"samples\": [\n          800,\n          1200,\n          950\n        ],\n        \"semantic_type\": \"\",\n        \"description\": \"\"\n      }\n    },\n    {\n      \"column\": \"Region\",\n      \"properties\": {\n        \"dtype\": \"category\",\n        \"num_unique_values\": 6,\n        \"samples\": [\n          \"East\",\n          \"South\",\n          \"West\"\n        ],\n        \"semantic_type\": \"\",\n        \"description\": \"\"\n      }\n    },\n    {\n      \"column\": \"OrderDate\",\n      \"properties\": {\n        \"dtype\": \"date\",\n        \"min\": \"2025-01-01 00:00:00\",\n        \"max\": \"2025-06-30 00:00:00\",\n        \"num_unique_values\": 166,\n        \"samples\": [\n          \"2025-03-07 00:00:00\",\n          \"2025-04-29 00:00:00\",\n          \"2025-01-28 00:00:00\"\n        ],\n        \"semantic_type\": \"\",\n        \"description\": \"\"\n      }\n    }\n  ]\n}"
            }
          },
          "metadata": {},
          "execution_count": 20
        }
      ]
    },
    {
      "cell_type": "code",
      "source": [
        "# Ensure numeric types\n",
        "df['Quantity'] = pd.to_numeric(df['Quantity'], errors='coerce').fillna(0).astype(int)\n",
        "df['UnitPrice'] = pd.to_numeric(df['UnitPrice'], errors='coerce').fillna(0.0)"
      ],
      "metadata": {
        "id": "gsxJ8EGZXetQ"
      },
      "execution_count": 21,
      "outputs": []
    },
    {
      "cell_type": "code",
      "source": [
        "# --- Feature engineering ---\n",
        "df['TotalRevenue'] = df['Quantity'] * df['UnitPrice']\n",
        "df['Profit'] = df['TotalRevenue'] * 0.20  # assume 20% margin for practice\n",
        "# Random discount applied to ~20% of orders for \"what-if\"\n",
        "np.random.seed(1)\n",
        "df['Discount%'] = np.where(np.random.rand(len(df)) < 0.20, 0.05, 0.0)\n",
        "df['RevenueAfterDiscount'] = df['TotalRevenue'] * (1 - df['Discount%'])\n"
      ],
      "metadata": {
        "id": "XUstGqFQYJLD"
      },
      "execution_count": 22,
      "outputs": []
    },
    {
      "cell_type": "code",
      "source": [
        "# Time features\n",
        "df['Month'] = df['OrderDate'].dt.month_name()\n",
        "df['MonthNum'] = df['OrderDate'].dt.month\n",
        "df['MonthYear'] = df['OrderDate'].dt.to_period('M').astype(str)\n",
        "df['Quarter'] = df['OrderDate'].dt.to_period('Q').astype(str)\n",
        "\n",
        "# Cumulative revenue (by date)\n",
        "df.sort_values('OrderDate', inplace=True)\n",
        "df['CumulativeRevenue'] = df['TotalRevenue'].cumsum()"
      ],
      "metadata": {
        "id": "CtfyrlMHYM4F"
      },
      "execution_count": 23,
      "outputs": []
    },
    {
      "cell_type": "code",
      "source": [
        "# --- Aggregations for analysis ---\n",
        "sales_by_region = df.groupby('Region', as_index=False)['TotalRevenue'].sum().sort_values(by='TotalRevenue', ascending=False)\n",
        "top_products = df.groupby(['ProductID', 'ProductName'], as_index=False)['TotalRevenue'].sum().sort_values(by='TotalRevenue', ascending=False).head(15)\n",
        "sales_by_salesperson = df.groupby('Salesperson', as_index=False)['TotalRevenue'].sum().sort_values(by='TotalRevenue', ascending=False)\n",
        "monthly_trend = df.groupby('MonthYear', as_index=False)['TotalRevenue'].sum().sort_values('MonthYear')\n",
        "\n",
        "avg_price_per_product = df.groupby('ProductName', as_index=False)['UnitPrice'].mean().sort_values(by='UnitPrice', ascending=False)\n",
        "quantity_distribution = df['Quantity'].describe()\n"
      ],
      "metadata": {
        "id": "UgPd2GjgYWJ8"
      },
      "execution_count": 27,
      "outputs": []
    },
    {
      "cell_type": "code",
      "source": [
        "# 1) Revenue by Region (bar)\n",
        "plt.figure(figsize=(8,4))\n",
        "sales_by_region.plot(kind='bar', x='Region', y='TotalRevenue', legend=False)\n",
        "plt.title('Total Revenue by Region')\n",
        "plt.ylabel('Total Revenue')\n",
        "plt.tight_layout()\n",
        "plt.show()"
      ],
      "metadata": {
        "colab": {
          "base_uri": "https://localhost:8080/",
          "height": 504
        },
        "id": "e-qwPAKJZXTz",
        "outputId": "5f31ac87-3667-4409-9a2f-df59352334d4"
      },
      "execution_count": 30,
      "outputs": [
        {
          "output_type": "display_data",
          "data": {
            "text/plain": [
              "<Figure size 800x400 with 0 Axes>"
            ]
          },
          "metadata": {}
        },
        {
          "output_type": "display_data",
          "data": {
            "text/plain": [
              "<Figure size 640x480 with 1 Axes>"
            ],
            "image/png": "[encoded data removed]"
          },
          "metadata": {}
        }
      ]
    },
    {
      "cell_type": "code",
      "source": [
        "#  Monthly revenue trend (line)\n",
        "plt.figure(figsize=(9,4))\n",
        "monthly_trend.plot(kind='line', x='MonthYear', y='TotalRevenue', marker='o', legend=False)\n",
        "plt.title('Monthly Revenue Trend')\n",
        "plt.ylabel('Total Revenue')\n",
        "plt.xticks(rotation=45)\n",
        "plt.tight_layout()\n",
        "plt.show()"
      ],
      "metadata": {
        "colab": {
          "base_uri": "https://localhost:8080/",
          "height": 504
        },
        "id": "2L0PfvMGZvIv",
        "outputId": "944f2504-fe3f-4818-d23a-709e0b11462c"
      },
      "execution_count": 32,
      "outputs": [
        {
          "output_type": "display_data",
          "data": {
            "text/plain": [
              "<Figure size 900x400 with 0 Axes>"
            ]
          },
          "metadata": {}
        },
        {
          "output_type": "display_data",
          "data": {
            "text/plain": [
              "<Figure size 640x480 with 1 Axes>"
            ],
            "image/png": "[encoded data removed]"
          },
          "metadata": {}
        }
      ]
    },
    {
      "cell_type": "code",
      "source": [
        "# Top products (bar)\n",
        "plt.figure(figsize=(10,4))\n",
        "top_products.plot(kind='bar', x='ProductName', y='TotalRevenue', legend=False)\n",
        "plt.title('Top Products by Revenue (Top 15)')\n",
        "plt.ylabel('Total Revenue')\n",
        "plt.xticks(rotation=45)\n",
        "plt.tight_layout()\n",
        "plt.show()\n"
      ],
      "metadata": {
        "colab": {
          "base_uri": "https://localhost:8080/",
          "height": 503
        },
        "id": "zdvUH5zUZ15N",
        "outputId": "426a6d09-51e3-487a-b7a0-96f287d18aff"
      },
      "execution_count": 33,
      "outputs": [
        {
          "output_type": "display_data",
          "data": {
            "text/plain": [
              "<Figure size 1000x400 with 0 Axes>"
            ]
          },
          "metadata": {}
        },
        {
          "output_type": "display_data",
          "data": {
            "text/plain": [
              "<Figure size 640x480 with 1 Axes>"
            ],
            "image/png": "[encoded data removed]"
          },
          "metadata": {}
        }
      ]
    },
    {
      "cell_type": "code",
      "source": [
        "# 4) Sales by Salesperson (bar)\n",
        "plt.figure(figsize=(8,4))\n",
        "sales_by_salesperson.plot(kind='bar', x='Salesperson', y='TotalRevenue', legend=False)\n",
        "plt.title('Total Revenue by Salesperson')\n",
        "plt.ylabel('Total Revenue')\n",
        "plt.tight_layout()\n",
        "plt.show()"
      ],
      "metadata": {
        "colab": {
          "base_uri": "https://localhost:8080/",
          "height": 504
        },
        "id": "XnnrjUpOZ_H5",
        "outputId": "4607755f-fb05-4247-fbc4-6385a70d53f7"
      },
      "execution_count": 34,
      "outputs": [
        {
          "output_type": "display_data",
          "data": {
            "text/plain": [
              "<Figure size 800x400 with 0 Axes>"
            ]
          },
          "metadata": {}
        },
        {
          "output_type": "display_data",
          "data": {
            "text/plain": [
              "<Figure size 640x480 with 1 Axes>"
            ],
            "image/png": "[encoded data removed]"
          },
          "metadata": {}
        }
      ]
    },
    {
      "cell_type": "code",
      "source": [
        "# 5) Quantity distribution summary (printed)\n",
        "quantity_distribution"
      ],
      "metadata": {
        "colab": {
          "base_uri": "https://localhost:8080/",
          "height": 335
        },
        "id": "Hs_X6-q-aC-g",
        "outputId": "48430f8b-e391-47ed-95f3-302766d87860"
      },
      "execution_count": 35,
      "outputs": [
        {
          "output_type": "execute_result",
          "data": {
            "text/plain": [
              "count    500.000000\n",
              "mean       7.448000\n",
              "std        4.054649\n",
              "min        1.000000\n",
              "25%        4.000000\n",
              "50%        7.000000\n",
              "75%       11.000000\n",
              "max       14.000000\n",
              "Name: Quantity, dtype: float64"
            ],
            "text/html": [
              "<div>\n",
              "<style scoped>\n",
              "    .dataframe tbody tr th:only-of-type {\n",
              "        vertical-align: middle;\n",
              "    }\n",
              "\n",
              "    .dataframe tbody tr th {\n",
              "        vertical-align: top;\n",
              "    }\n",
              "\n",
              "    .dataframe thead th {\n",
              "        text-align: right;\n",
              "    }\n",
              "</style>\n",
              "<table border=\"1\" class=\"dataframe\">\n",
              "  <thead>\n",
              "    <tr style=\"text-align: right;\">\n",
              "      <th></th>\n",
              "      <th>Quantity</th>\n",
              "    </tr>\n",
              "  </thead>\n",
              "  <tbody>\n",
              "    <tr>\n",
              "      <th>count</th>\n",
              "      <td>500.000000</td>\n",
              "    </tr>\n",
              "    <tr>\n",
              "      <th>mean</th>\n",
              "      <td>7.448000</td>\n",
              "    </tr>\n",
              "    <tr>\n",
              "      <th>std</th>\n",
              "      <td>4.054649</td>\n",
              "    </tr>\n",
              "    <tr>\n",
              "      <th>min</th>\n",
              "      <td>1.000000</td>\n",
              "    </tr>\n",
              "    <tr>\n",
              "      <th>25%</th>\n",
              "      <td>4.000000</td>\n",
              "    </tr>\n",
              "    <tr>\n",
              "      <th>50%</th>\n",
              "      <td>7.000000</td>\n",
              "    </tr>\n",
              "    <tr>\n",
              "      <th>75%</th>\n",
              "      <td>11.000000</td>\n",
              "    </tr>\n",
              "    <tr>\n",
              "      <th>max</th>\n",
              "      <td>14.000000</td>\n",
              "    </tr>\n",
              "  </tbody>\n",
              "</table>\n",
              "</div><br><label><b>dtype:</b> float64</label>"
            ]
          },
          "metadata": {},
          "execution_count": 35
        }
      ]
    },
    {
      "cell_type": "code",
      "source": [
        "# --- Save cleaned merged file ---\n",
        "merged_path = '/content/merged_sales_500.xlsx'\n",
        "df.to_excel(merged_path, index=False)\n"
      ],
      "metadata": {
        "id": "XuKLyFxzZMjR"
      },
      "execution_count": 37,
      "outputs": []
    },
    {
      "cell_type": "code",
      "source": [
        "df.head()\n",
        "\n"
      ],
      "metadata": {
        "colab": {
          "base_uri": "https://localhost:8080/",
          "height": 313
        },
        "id": "pVsN7fYWaHGo",
        "outputId": "222f6859-64d0-4b45-de45-8ef001fa051e"
      },
      "execution_count": 38,
      "outputs": [
        {
          "output_type": "execute_result",
          "data": {
            "text/plain": [
              "     OrderID ProductID  Quantity Salesperson   ProductName  UnitPrice  \\\n",
              "437     1438       P05        13         Eva    HP Spectre       1500   \n",
              "122     1123       P03         1       Grace  HP EliteBook        950   \n",
              "475     1476       P08         7         Eva      HP ZBook       1100   \n",
              "193     1194       P01         5         Eva       HP Envy        800   \n",
              "481     1482       P10         5         Bob     HP Victus        850   \n",
              "\n",
              "         Region  OrderDate  TotalRevenue  Profit  Discount%  \\\n",
              "437       North 2025-01-01         19500  3900.0       0.05   \n",
              "122  North-East 2025-01-01           950   190.0       0.05   \n",
              "475       North 2025-01-01          7700  1540.0       0.05   \n",
              "193       North 2025-01-02          4000   800.0       0.00   \n",
              "481       South 2025-01-02          4250   850.0       0.00   \n",
              "\n",
              "     RevenueAfterDiscount    Month  MonthNum MonthYear Quarter  \\\n",
              "437               18525.0  January         1   2025-01  2025Q1   \n",
              "122                 902.5  January         1   2025-01  2025Q1   \n",
              "475                7315.0  January         1   2025-01  2025Q1   \n",
              "193                4000.0  January         1   2025-01  2025Q1   \n",
              "481                4250.0  January         1   2025-01  2025Q1   \n",
              "\n",
              "     CumulativeRevenue  \n",
              "437              19500  \n",
              "122              20450  \n",
              "475              28150  \n",
              "193              32150  \n",
              "481              36400  "
            ],
            "text/html": [
              "\n",
              "  <div id=\"df-8ec6696f-90a9-4a88-91ff-4615e39196db\" class=\"colab-df-container\">\n",
              "    <div>\n",
              "<style scoped>\n",
              "    .dataframe tbody tr th:only-of-type {\n",
              "        vertical-align: middle;\n",
              "    }\n",
              "\n",
              "    .dataframe tbody tr th {\n",
              "        vertical-align: top;\n",
              "    }\n",
              "\n",
              "    .dataframe thead th {\n",
              "        text-align: right;\n",
              "    }\n",
              "</style>\n",
              "<table border=\"1\" class=\"dataframe\">\n",
              "  <thead>\n",
              "    <tr style=\"text-align: right;\">\n",
              "      <th></th>\n",
              "      <th>OrderID</th>\n",
              "      <th>ProductID</th>\n",
              "      <th>Quantity</th>\n",
              "      <th>Salesperson</th>\n",
              "      <th>ProductName</th>\n",
              "      <th>UnitPrice</th>\n",
              "      <th>Region</th>\n",
              "      <th>OrderDate</th>\n",
              "      <th>TotalRevenue</th>\n",
              "      <th>Profit</th>\n",
              "      <th>Discount%</th>\n",
              "      <th>RevenueAfterDiscount</th>\n",
              "      <th>Month</th>\n",
              "      <th>MonthNum</th>\n",
              "      <th>MonthYear</th>\n",
              "      <th>Quarter</th>\n",
              "      <th>CumulativeRevenue</th>\n",
              "    </tr>\n",
              "  </thead>\n",
              "  <tbody>\n",
              "    <tr>\n",
              "      <th>437</th>\n",
              "      <td>1438</td>\n",
              "      <td>P05</td>\n",
              "      <td>13</td>\n",
              "      <td>Eva</td>\n",
              "      <td>HP Spectre</td>\n",
              "      <td>1500</td>\n",
              "      <td>North</td>\n",
              "      <td>2025-01-01</td>\n",
              "      <td>19500</td>\n",
              "      <td>3900.0</td>\n",
              "      <td>0.05</td>\n",
              "      <td>18525.0</td>\n",
              "      <td>January</td>\n",
              "      <td>1</td>\n",
              "      <td>2025-01</td>\n",
              "      <td>2025Q1</td>\n",
              "      <td>19500</td>\n",
              "    </tr>\n",
              "    <tr>\n",
              "      <th>122</th>\n",
              "      <td>1123</td>\n",
              "      <td>P03</td>\n",
              "      <td>1</td>\n",
              "      <td>Grace</td>\n",
              "      <td>HP EliteBook</td>\n",
              "      <td>950</td>\n",
              "      <td>North-East</td>\n",
              "      <td>2025-01-01</td>\n",
              "      <td>950</td>\n",
              "      <td>190.0</td>\n",
              "      <td>0.05</td>\n",
              "      <td>902.5</td>\n",
              "      <td>January</td>\n",
              "      <td>1</td>\n",
              "      <td>2025-01</td>\n",
              "      <td>2025Q1</td>\n",
              "      <td>20450</td>\n",
              "    </tr>\n",
              "    <tr>\n",
              "      <th>475</th>\n",
              "      <td>1476</td>\n",
              "      <td>P08</td>\n",
              "      <td>7</td>\n",
              "      <td>Eva</td>\n",
              "      <td>HP ZBook</td>\n",
              "      <td>1100</td>\n",
              "      <td>North</td>\n",
              "      <td>2025-01-01</td>\n",
              "      <td>7700</td>\n",
              "      <td>1540.0</td>\n",
              "      <td>0.05</td>\n",
              "      <td>7315.0</td>\n",
              "      <td>January</td>\n",
              "      <td>1</td>\n",
              "      <td>2025-01</td>\n",
              "      <td>2025Q1</td>\n",
              "      <td>28150</td>\n",
              "    </tr>\n",
              "    <tr>\n",
              "      <th>193</th>\n",
              "      <td>1194</td>\n",
              "      <td>P01</td>\n",
              "      <td>5</td>\n",
              "      <td>Eva</td>\n",
              "      <td>HP Envy</td>\n",
              "      <td>800</td>\n",
              "      <td>North</td>\n",
              "      <td>2025-01-02</td>\n",
              "      <td>4000</td>\n",
              "      <td>800.0</td>\n",
              "      <td>0.00</td>\n",
              "      <td>4000.0</td>\n",
              "      <td>January</td>\n",
              "      <td>1</td>\n",
              "      <td>2025-01</td>\n",
              "      <td>2025Q1</td>\n",
              "      <td>32150</td>\n",
              "    </tr>\n",
              "    <tr>\n",
              "      <th>481</th>\n",
              "      <td>1482</td>\n",
              "      <td>P10</td>\n",
              "      <td>5</td>\n",
              "      <td>Bob</td>\n",
              "      <td>HP Victus</td>\n",
              "      <td>850</td>\n",
              "      <td>South</td>\n",
              "      <td>2025-01-02</td>\n",
              "      <td>4250</td>\n",
              "      <td>850.0</td>\n",
              "      <td>0.00</td>\n",
              "      <td>4250.0</td>\n",
              "      <td>January</td>\n",
              "      <td>1</td>\n",
              "      <td>2025-01</td>\n",
              "      <td>2025Q1</td>\n",
              "      <td>36400</td>\n",
              "    </tr>\n",
              "  </tbody>\n",
              "</table>\n",
              "</div>\n",
              "    <div class=\"colab-df-buttons\">\n",
              "\n",
              "  <div class=\"colab-df-container\">\n",
              "    <button class=\"colab-df-convert\" onclick=\"convertToInteractive('df-8ec6696f-90a9-4a88-91ff-4615e39196db')\"\n",
              "            title=\"Convert this dataframe to an interactive table.\"\n",
              "            style=\"display:none;\">\n",
              "\n",
              "  <svg xmlns=\"http://www.w3.org/2000/svg\" height=\"24px\" viewBox=\"0 -960 960 960\">\n",
              "    <path d=\"M120-120v-720h720v720H120Zm60-500h600v-160H180v160Zm220 220h160v-160H400v160Zm0 220h160v-160H400v160ZM180-400h160v-160H180v160Zm440 0h160v-160H620v160ZM180-180h160v-160H180v160Zm440 0h160v-160H620v160Z\"/>\n",
              "  </svg>\n",
              "    </button>\n",
              "\n",
              "  <style>\n",
              "    .colab-df-container {\n",
              "      display:flex;\n",
              "      gap: 12px;\n",
              "    }\n",
              "\n",
              "    .colab-df-convert {\n",
              "      background-color: #E8F0FE;\n",
              "      border: none;\n",
              "      border-radius: 50%;\n",
              "      cursor: pointer;\n",
              "      display: none;\n",
              "      fill: #1967D2;\n",
              "      height: 32px;\n",
              "      padding: 0 0 0 0;\n",
              "      width: 32px;\n",
              "    }\n",
              "\n",
              "    .colab-df-convert:hover {\n",
              "      background-color: #E2EBFA;\n",
              "      box-shadow: 0px 1px 2px rgba(60, 64, 67, 0.3), 0px 1px 3px 1px rgba(60, 64, 67, 0.15);\n",
              "      fill: #174EA6;\n",
              "    }\n",
              "\n",
              "    .colab-df-buttons div {\n",
              "      margin-bottom: 4px;\n",
              "    }\n",
              "\n",
              "    [theme=dark] .colab-df-convert {\n",
              "      background-color: #3B4455;\n",
              "      fill: #D2E3FC;\n",
              "    }\n",
              "\n",
              "    [theme=dark] .colab-df-convert:hover {\n",
              "      background-color: #434B5C;\n",
              "      box-shadow: 0px 1px 3px 1px rgba(0, 0, 0, 0.15);\n",
              "      filter: drop-shadow(0px 1px 2px rgba(0, 0, 0, 0.3));\n",
              "      fill: #FFFFFF;\n",
              "    }\n",
              "  </style>\n",
              "\n",
              "    <script>\n",
              "      const buttonEl =\n",
              "        document.querySelector('#df-8ec6696f-90a9-4a88-91ff-4615e39196db button.colab-df-convert');\n",
              "      buttonEl.style.display =\n",
              "        google.colab.kernel.accessAllowed ? 'block' : 'none';\n",
              "\n",
              "      async function convertToInteractive(key) {\n",
              "        const element = document.querySelector('#df-8ec6696f-90a9-4a88-91ff-4615e39196db');\n",
              "        const dataTable =\n",
              "          await google.colab.kernel.invokeFunction('convertToInteractive',\n",
              "                                                    [key], {});\n",
              "        if (!dataTable) return;\n",
              "\n",
              "        const docLinkHtml = 'Like what you see? Visit the ' +\n",
              "          '<a target=\"_blank\" href=https://colab.research.google.com/notebooks/data_table.ipynb>data table notebook</a>'\n",
              "          + ' to learn more about interactive tables.';\n",
              "        element.innerHTML = '';\n",
              "        dataTable['output_type'] = 'display_data';\n",
              "        await google.colab.output.renderOutput(dataTable, element);\n",
              "        const docLink = document.createElement('div');\n",
              "        docLink.innerHTML = docLinkHtml;\n",
              "        element.appendChild(docLink);\n",
              "      }\n",
              "    </script>\n",
              "  </div>\n",
              "\n",
              "\n",
              "    <div id=\"df-5fa88426-83d4-4105-8747-ffbcdc03981f\">\n",
              "      <button class=\"colab-df-quickchart\" onclick=\"quickchart('df-5fa88426-83d4-4105-8747-ffbcdc03981f')\"\n",
              "                title=\"Suggest charts\"\n",
              "                style=\"display:none;\">\n",
              "\n",
              "<svg xmlns=\"http://www.w3.org/2000/svg\" height=\"24px\"viewBox=\"0 0 24 24\"\n",
              "     width=\"24px\">\n",
              "    <g>\n",
              "        <path d=\"M19 3H5c-1.1 0-2 .9-2 2v14c0 1.1.9 2 2 2h14c1.1 0 2-.9 2-2V5c0-1.1-.9-2-2-2zM9 17H7v-7h2v7zm4 0h-2V7h2v10zm4 0h-2v-4h2v4z\"/>\n",
              "    </g>\n",
              "</svg>\n",
              "      </button>\n",
              "\n",
              "<style>\n",
              "  .colab-df-quickchart {\n",
              "      --bg-color: #E8F0FE;\n",
              "      --fill-color: #1967D2;\n",
              "      --hover-bg-color: #E2EBFA;\n",
              "      --hover-fill-color: #174EA6;\n",
              "      --disabled-fill-color: #AAA;\n",
              "      --disabled-bg-color: #DDD;\n",
              "  }\n",
              "\n",
              "  [theme=dark] .colab-df-quickchart {\n",
              "      --bg-color: #3B4455;\n",
              "      --fill-color: #D2E3FC;\n",
              "      --hover-bg-color: #434B5C;\n",
              "      --hover-fill-color: #FFFFFF;\n",
              "      --disabled-bg-color: #3B4455;\n",
              "      --disabled-fill-color: #666;\n",
              "  }\n",
              "\n",
              "  .colab-df-quickchart {\n",
              "    background-color: var(--bg-color);\n",
              "    border: none;\n",
              "    border-radius: 50%;\n",
              "    cursor: pointer;\n",
              "    display: none;\n",
              "    fill: var(--fill-color);\n",
              "    height: 32px;\n",
              "    padding: 0;\n",
              "    width: 32px;\n",
              "  }\n",
              "\n",
              "  .colab-df-quickchart:hover {\n",
              "    background-color: var(--hover-bg-color);\n",
              "    box-shadow: 0 1px 2px rgba(60, 64, 67, 0.3), 0 1px 3px 1px rgba(60, 64, 67, 0.15);\n",
              "    fill: var(--button-hover-fill-color);\n",
              "  }\n",
              "\n",
              "  .colab-df-quickchart-complete:disabled,\n",
              "  .colab-df-quickchart-complete:disabled:hover {\n",
              "    background-color: var(--disabled-bg-color);\n",
              "    fill: var(--disabled-fill-color);\n",
              "    box-shadow: none;\n",
              "  }\n",
              "\n",
              "  .colab-df-spinner {\n",
              "    border: 2px solid var(--fill-color);\n",
              "    border-color: transparent;\n",
              "    border-bottom-color: var(--fill-color);\n",
              "    animation:\n",
              "      spin 1s steps(1) infinite;\n",
              "  }\n",
              "\n",
              "  @keyframes spin {\n",
              "    0% {\n",
              "      border-color: transparent;\n",
              "      border-bottom-color: var(--fill-color);\n",
              "      border-left-color: var(--fill-color);\n",
              "    }\n",
              "    20% {\n",
              "      border-color: transparent;\n",
              "      border-left-color: var(--fill-color);\n",
              "      border-top-color: var(--fill-color);\n",
              "    }\n",
              "    30% {\n",
              "      border-color: transparent;\n",
              "      border-left-color: var(--fill-color);\n",
              "      border-top-color: var(--fill-color);\n",
              "      border-right-color: var(--fill-color);\n",
              "    }\n",
              "    40% {\n",
              "      border-color: transparent;\n",
              "      border-right-color: var(--fill-color);\n",
              "      border-top-color: var(--fill-color);\n",
              "    }\n",
              "    60% {\n",
              "      border-color: transparent;\n",
              "      border-right-color: var(--fill-color);\n",
              "    }\n",
              "    80% {\n",
              "      border-color: transparent;\n",
              "      border-right-color: var(--fill-color);\n",
              "      border-bottom-color: var(--fill-color);\n",
              "    }\n",
              "    90% {\n",
              "      border-color: transparent;\n",
              "      border-bottom-color: var(--fill-color);\n",
              "    }\n",
              "  }\n",
              "</style>\n",
              "\n",
              "      <script>\n",
              "        async function quickchart(key) {\n",
              "          const quickchartButtonEl =\n",
              "            document.querySelector('#' + key + ' button');\n",
              "          quickchartButtonEl.disabled = true;  // To prevent multiple clicks.\n",
              "          quickchartButtonEl.classList.add('colab-df-spinner');\n",
              "          try {\n",
              "            const charts = await google.colab.kernel.invokeFunction(\n",
              "                'suggestCharts', [key], {});\n",
              "          } catch (error) {\n",
              "            console.error('Error during call to suggestCharts:', error);\n",
              "          }\n",
              "          quickchartButtonEl.classList.remove('colab-df-spinner');\n",
              "          quickchartButtonEl.classList.add('colab-df-quickchart-complete');\n",
              "        }\n",
              "        (() => {\n",
              "          let quickchartButtonEl =\n",
              "            document.querySelector('#df-5fa88426-83d4-4105-8747-ffbcdc03981f button');\n",
              "          quickchartButtonEl.style.display =\n",
              "            google.colab.kernel.accessAllowed ? 'block' : 'none';\n",
              "        })();\n",
              "      </script>\n",
              "    </div>\n",
              "\n",
              "    </div>\n",
              "  </div>\n"
            ],
            "application/vnd.google.colaboratory.intrinsic+json": {
              "type": "dataframe",
              "variable_name": "df",
              "summary": "{\n  \"name\": \"df\",\n  \"rows\": 500,\n  \"fields\": [\n    {\n      \"column\": \"OrderID\",\n      \"properties\": {\n        \"dtype\": \"number\",\n        \"std\": 144,\n        \"min\": 1001,\n        \"max\": 1500,\n        \"num_unique_values\": 500,\n        \"samples\": [\n          1016,\n          1106,\n          1095\n        ],\n        \"semantic_type\": \"\",\n        \"description\": \"\"\n      }\n    },\n    {\n      \"column\": \"ProductID\",\n      \"properties\": {\n        \"dtype\": \"category\",\n        \"num_unique_values\": 10,\n        \"samples\": [\n          \"P09\",\n          \"P03\",\n          \"P06\"\n        ],\n        \"semantic_type\": \"\",\n        \"description\": \"\"\n      }\n    },\n    {\n      \"column\": \"Quantity\",\n      \"properties\": {\n        \"dtype\": \"number\",\n        \"std\": 4,\n        \"min\": 1,\n        \"max\": 14,\n        \"num_unique_values\": 14,\n        \"samples\": [\n          12,\n          14,\n          13\n        ],\n        \"semantic_type\": \"\",\n        \"description\": \"\"\n      }\n    },\n    {\n      \"column\": \"Salesperson\",\n      \"properties\": {\n        \"dtype\": \"category\",\n        \"num_unique_values\": 6,\n        \"samples\": [\n          \"Eva\",\n          \"Grace\",\n          \"Alice\"\n        ],\n        \"semantic_type\": \"\",\n        \"description\": \"\"\n      }\n    },\n    {\n      \"column\": \"ProductName\",\n      \"properties\": {\n        \"dtype\": \"category\",\n        \"num_unique_values\": 10,\n        \"samples\": [\n          \"HP Stream\",\n          \"HP EliteBook\",\n          \"HP Chromebook\"\n        ],\n        \"semantic_type\": \"\",\n        \"description\": \"\"\n      }\n    },\n    {\n      \"column\": \"UnitPrice\",\n      \"properties\": {\n        \"dtype\": \"number\",\n        \"std\": 333,\n        \"min\": 300,\n        \"max\": 1500,\n        \"num_unique_values\": 10,\n        \"samples\": [\n          300,\n          950,\n          400\n        ],\n        \"semantic_type\": \"\",\n        \"description\": \"\"\n      }\n    },\n    {\n      \"column\": \"Region\",\n      \"properties\": {\n        \"dtype\": \"category\",\n        \"num_unique_values\": 6,\n        \"samples\": [\n          \"North\",\n          \"North-East\",\n          \"West\"\n        ],\n        \"semantic_type\": \"\",\n        \"description\": \"\"\n      }\n    },\n    {\n      \"column\": \"OrderDate\",\n      \"properties\": {\n        \"dtype\": \"date\",\n        \"min\": \"2025-01-01 00:00:00\",\n        \"max\": \"2025-06-30 00:00:00\",\n        \"num_unique_values\": 166,\n        \"samples\": [\n          \"2025-04-21 00:00:00\",\n          \"2025-05-30 00:00:00\",\n          \"2025-03-27 00:00:00\"\n        ],\n        \"semantic_type\": \"\",\n        \"description\": \"\"\n      }\n    },\n    {\n      \"column\": \"TotalRevenue\",\n      \"properties\": {\n        \"dtype\": \"number\",\n        \"std\": 4563,\n        \"min\": 300,\n        \"max\": 21000,\n        \"num_unique_values\": 98,\n        \"samples\": [\n          6650,\n          1600,\n          1900\n        ],\n        \"semantic_type\": \"\",\n        \"description\": \"\"\n      }\n    },\n    {\n      \"column\": \"Profit\",\n      \"properties\": {\n        \"dtype\": \"number\",\n        \"std\": 912.6930045975384,\n        \"min\": 60.0,\n        \"max\": 4200.0,\n        \"num_unique_values\": 98,\n        \"samples\": [\n          1330.0,\n          320.0,\n          380.0\n        ],\n        \"semantic_type\": \"\",\n        \"description\": \"\"\n      }\n    },\n    {\n      \"column\": \"Discount%\",\n      \"properties\": {\n        \"dtype\": \"number\",\n        \"std\": 0.02031416576336133,\n        \"min\": 0.0,\n        \"max\": 0.05,\n        \"num_unique_values\": 2,\n        \"samples\": [\n          0.0,\n          0.05\n        ],\n        \"semantic_type\": \"\",\n        \"description\": \"\"\n      }\n    },\n    {\n      \"column\": \"RevenueAfterDiscount\",\n      \"properties\": {\n        \"dtype\": \"number\",\n        \"std\": 4526.314209458441,\n        \"min\": 285.0,\n        \"max\": 21000.0,\n        \"num_unique_values\": 152,\n        \"samples\": [\n          11200.0,\n          400.0\n        ],\n        \"semantic_type\": \"\",\n        \"description\": \"\"\n      }\n    },\n    {\n      \"column\": \"Month\",\n      \"properties\": {\n        \"dtype\": \"category\",\n        \"num_unique_values\": 6,\n        \"samples\": [\n          \"January\",\n          \"February\"\n        ],\n        \"semantic_type\": \"\",\n        \"description\": \"\"\n      }\n    },\n    {\n      \"column\": \"MonthNum\",\n      \"properties\": {\n        \"dtype\": \"int32\",\n        \"num_unique_values\": 6,\n        \"samples\": [\n          1,\n          2\n        ],\n        \"semantic_type\": \"\",\n        \"description\": \"\"\n      }\n    },\n    {\n      \"column\": \"MonthYear\",\n      \"properties\": {\n        \"dtype\": \"object\",\n        \"num_unique_values\": 6,\n        \"samples\": [\n          \"2025-01\",\n          \"2025-02\"\n        ],\n        \"semantic_type\": \"\",\n        \"description\": \"\"\n      }\n    },\n    {\n      \"column\": \"Quarter\",\n      \"properties\": {\n        \"dtype\": \"object\",\n        \"num_unique_values\": 2,\n        \"samples\": [\n          \"2025Q2\",\n          \"2025Q1\"\n        ],\n        \"semantic_type\": \"\",\n        \"description\": \"\"\n      }\n    },\n    {\n      \"column\": \"CumulativeRevenue\",\n      \"properties\": {\n        \"dtype\": \"number\",\n        \"std\": 958780,\n        \"min\": 19500,\n        \"max\": 3233550,\n        \"num_unique_values\": 500,\n        \"samples\": [\n          2424200,\n          453500\n        ],\n        \"semantic_type\": \"\",\n        \"description\": \"\"\n      }\n    }\n  ]\n}"
            }
          },
          "metadata": {},
          "execution_count": 38
        }
      ]
    },
    {
      "cell_type": "code",
      "source": [],
      "metadata": {
        "id": "jvvrOW9JaMkS"
      },
      "execution_count": null,
      "outputs": []
    }
  ]
}